{
 "cells": [
  {
   "cell_type": "code",
   "execution_count": 2,
   "metadata": {},
   "outputs": [],
   "source": [
    "# Packages we need\n",
    "import pandas as pd\n",
    "import numpy as np\n",
    "import datetime as dt\n",
    "import seaborn as sns\n",
    "import matplotlib.pyplot as plt"
   ]
  },
  {
   "cell_type": "code",
   "execution_count": 3,
   "metadata": {},
   "outputs": [
    {
     "name": "stdout",
     "output_type": "stream",
     "text": [
      "                 event_time event_type  product_id          category_id  \\\n",
      "0 2019-10-01 00:00:00+00:00       cart     5773203  1487580005134238553   \n",
      "1 2019-10-01 00:00:03+00:00       cart     5773353  1487580005134238553   \n",
      "2 2019-10-01 00:00:07+00:00       cart     5881589  2151191071051219817   \n",
      "3 2019-10-01 00:00:07+00:00       cart     5723490  1487580005134238553   \n",
      "4 2019-10-01 00:00:15+00:00       cart     5881449  1487580013522845895   \n",
      "\n",
      "  category_code   brand  price    user_id  \\\n",
      "0           NaN  runail   2.62  463240011   \n",
      "1           NaN  runail   2.62  463240011   \n",
      "2           NaN  lovely  13.48  429681830   \n",
      "3           NaN  runail   2.62  463240011   \n",
      "4           NaN  lovely   0.56  429681830   \n",
      "\n",
      "                           user_session category sub-category product  \\\n",
      "0  26dd6e6e-4dac-4778-8d2c-92e149dab885      NaN          NaN     NaN   \n",
      "1  26dd6e6e-4dac-4778-8d2c-92e149dab885      NaN          NaN     NaN   \n",
      "2  49e8d843-adf3-428b-a2c3-fe8bc6a307c9      NaN          NaN     NaN   \n",
      "3  26dd6e6e-4dac-4778-8d2c-92e149dab885      NaN          NaN     NaN   \n",
      "4  49e8d843-adf3-428b-a2c3-fe8bc6a307c9      NaN          NaN     NaN   \n",
      "\n",
      "   weekday   months  \n",
      "0  Tuesday  October  \n",
      "1  Tuesday  October  \n",
      "2  Tuesday  October  \n",
      "3  Tuesday  October  \n",
      "4  Tuesday  October  \n"
     ]
    }
   ],
   "source": [
    "# Load datasets\n",
    "\n",
    "# TO DO\n",
    "    # add a dateparse -> this slows down the process so, it will be done\n",
    "file_path = \"C:/Users/Guillaume/Desktop/Algorithmic Methods/ADM Datasets/2019-Oct.csv\"\n",
    "df_oct = pd.read_csv(file_path, nrows=10000, parse_dates=[\"event_time\"])\n",
    "\n",
    "file_path = \"C:/Users/Guillaume/Desktop/Algorithmic Methods/ADM Datasets/2019-Nov.csv\"\n",
    "df_nov = pd.read_csv(file_path, nrows=10000, parse_dates=[\"event_time\"])\n",
    "\n",
    "# We append nov to oct\n",
    "df = df_oct.append(df_nov)\n",
    "# We remove duplicates\n",
    "df = df.drop_duplicates()\n",
    "\n",
    "# Split the column category_code into its different components\n",
    "df[[\"category\",\"sub-category\",\"product\"]] = df[\"category_code\"].str.split(\".\", expand=True)\n",
    "\n",
    "# Extract Weekday names\n",
    "df[\"weekday\"] = df[\"event_time\"].dt.day_name()\n",
    "# Extract Month_names\n",
    "df[\"months\"] = df[\"event_time\"].dt.month_name()\n",
    "print(df.head())"
   ]
  },
  {
   "cell_type": "markdown",
   "metadata": {},
   "source": [
    "# R1 Complete Funnels Rate\n",
    "A marketing funnel describes your customer’s journey with your e-commerce. It may involve different stages, beginning when someone learns about your business, when he/she visits your website for the first time, to the purchasing stage, marketing funnels map routes to conversion and beyond. Suppose your funnel involves just three simple steps: 1) view, 2) cart, 3) purchase."
   ]
  },
  {
   "cell_type": "markdown",
   "metadata": {},
   "source": [
    "A complete funnel is the successive operations of view->cart->purchase realized during 1 session."
   ]
  },
  {
   "cell_type": "markdown",
   "metadata": {},
   "source": [
    "# R2 What are the categories of the most trending products overall? "
   ]
  },
  {
   "cell_type": "markdown",
   "metadata": {},
   "source": [
    "### For each month visualize this information through a plot showing the number of sold products per category. Plot the most visited subcategories"
   ]
  },
  {
   "cell_type": "code",
   "execution_count": null,
   "metadata": {},
   "outputs": [],
   "source": [
    "df_purchased_cat = df[df[\"event_type\"]==\"purchase\"]\n",
    "#df_purchased_cat = df_purchased_cat[[\"category\",\"sub-category\",\"product\"]].fillna(\"unknown\")\n",
    "df_purchased_cat = pd.DataFrame(df_purchased_cat.groupby([\"category\"]).product.count()).rename(columns={'product':'count_product'}).reset_index()\n",
    "\n",
    "plot = sns.barplot(x=\"category\", y = \"count_product\", data=df_purchased_cat)\n",
    "#plt.show()"
   ]
  },
  {
   "cell_type": "markdown",
   "metadata": {},
   "source": [
    "What are the 10 most sold products per category?"
   ]
  },
  {
   "cell_type": "code",
   "execution_count": null,
   "metadata": {},
   "outputs": [],
   "source": [
    "df_purchase_product = df[df[\"event_type\"]==\"purchase\"]\n",
    "df_purchase_product = pd.DataFrame(df_purchase_product.groupby([\"category\",\"product\"]).event_type.count())\n",
    "#print(df_purchase_product.nlargest(10,[\"category\",\"product\"]))\n",
    "print(df_purchase_product)"
   ]
  },
  {
   "cell_type": "markdown",
   "metadata": {},
   "source": [
    "What to do with all the empty values"
   ]
  },
  {
   "cell_type": "markdown",
   "metadata": {},
   "source": [
    "# R3\n",
    "### For each category, what’s the brand whose prices are higher on average?"
   ]
  },
  {
   "cell_type": "code",
   "execution_count": 13,
   "metadata": {},
   "outputs": [
    {
     "name": "stdout",
     "output_type": "stream",
     "text": [
      "        price     category      brand\n",
      "3  150.790000    furniture   kosmekka\n",
      "2   74.299167   appliances        max\n",
      "0   62.700000  accessories      vosev\n",
      "1   10.288000      apparel   nitrimax\n",
      "4    3.020000   stationery  depilflax\n"
     ]
    }
   ],
   "source": [
    "df_brand_avg_price = pd.DataFrame(df.groupby([\"category\",\"brand\"]).price.mean())\n",
    "df_cat_max_price = pd.DataFrame(df_brand_avg_price.max(level=[0]))\n",
    "result = pd.merge(df_cat_max_price, df_brand_avg_price.reset_index(), how=\"left\", on=[\"price\"])\n",
    "print(result.sort_values(by=\"price\", ascending=False))"
   ]
  },
  {
   "cell_type": "markdown",
   "metadata": {},
   "source": [
    "### Write a function that asks the user a category in input and returns a plot indicating the average price of the products sold by the brand."
   ]
  },
  {
   "cell_type": "code",
   "execution_count": 14,
   "metadata": {},
   "outputs": [],
   "source": [
    "def plot_avg_price_product_brand(category):\n",
    "\n",
    "    df_brand_avg_price = pd.DataFrame(df.groupby([\"category\",\"brand\"]).price.mean()).reset_index()\n",
    "    df_plot = df_brand_avg_price[df_brand_avg_price[\"category\"]==category]\n",
    "    sns.scatterplot(data= df_plot, x=\"brand\", y=\"price\")\n",
    "    plt.show()"
   ]
  },
  {
   "cell_type": "markdown",
   "metadata": {},
   "source": [
    "### Find, for each category, the brand with the highest average price. Return all the results in ascending order by price.\n",
    "that's the same as before"
   ]
  },
  {
   "cell_type": "markdown",
   "metadata": {},
   "source": [
    "# R4\n",
    "### How much does each brand earn per month?"
   ]
  },
  {
   "cell_type": "code",
   "execution_count": 26,
   "metadata": {},
   "outputs": [
    {
     "name": "stdout",
     "output_type": "stream",
     "text": [
      "  brand   months  revenues\n",
      "0   max  October     47.46\n"
     ]
    }
   ],
   "source": [
    "df_revenue = df[df[\"event_type\"] == \"purchase\"]\n",
    "df_revenue = pd.DataFrame(df_revenue.groupby([\"brand\",\"product\",\"price\",\"months\"]).event_type.count()).reset_index()\n",
    "df_revenue[\"revenues\"] = df_revenue[\"price\"]*df_revenue[\"event_type\"]\n",
    "df_revenue = pd.DataFrame(df_revenue.groupby([\"brand\",\"months\"]).revenues.sum()).reset_index()\n",
    "print(df_revenue.head(10))"
   ]
  },
  {
   "cell_type": "markdown",
   "metadata": {},
   "source": [
    "### Write a function that given the name of a brand in input returns, for each month, its profit. \n",
    "\n",
    "There is no way to access the cost - hence our only option to compute revenues"
   ]
  },
  {
   "cell_type": "code",
   "execution_count": null,
   "metadata": {},
   "outputs": [],
   "source": [
    "def brand_revenues(brand):\n",
    "    \n",
    "    df_revenue = df[df[\"event_type\"] == \"purchase\"]\n",
    "    # Input\n",
    "    df_revenue = df_revenue[df_revenue[\"brand\"] == brand]\n",
    "    \n",
    "    df_revenue = pd.DataFrame(df_revenue.groupby([\"brand\",\"product\",\"price\",\"months\"]).event_type.count()).reset_index()\n",
    "    df_revenue[\"revenues\"] = df_revenue[\"price\"]*df_revenue[\"event_type\"]\n",
    "    df_revenue = pd.DataFrame(df_revenue.groupby([\"brand\",\"months\"]).revenues.sum()).reset_index()\n",
    "    \n",
    "    return df_revenue\n",
    "    \n",
    "# What format should this take. It cannot stay a dataframe"
   ]
  },
  {
   "cell_type": "markdown",
   "metadata": {},
   "source": [
    "### Is the average price of products of different brands significantly different?"
   ]
  },
  {
   "cell_type": "markdown",
   "metadata": {},
   "source": [
    "First --> we need the average price of products for each brand.\n",
    "Second --> A box plot is one option to visualize this difference"
   ]
  },
  {
   "cell_type": "code",
   "execution_count": 9,
   "metadata": {},
   "outputs": [
    {
     "data": {
      "text/plain": [
       "<matplotlib.axes._subplots.AxesSubplot at 0x1d8071db5b0>"
      ]
     },
     "execution_count": 9,
     "metadata": {},
     "output_type": "execute_result"
    },
    {
     "data": {
      "image/png": "[encoded data removed]",
      "text/plain": [
       "<Figure size 432x288 with 1 Axes>"
      ]
     },
     "metadata": {
      "needs_background": "light"
     },
     "output_type": "display_data"
    }
   ],
   "source": [
    "df_brand_avg_price = df[df[\"event_type\"] == \"purchase\"]\n",
    "df_brand_avg_price = pd.DataFrame(df_brand_avg_price.groupby([\"brand\"]).price.mean()).reset_index()\n",
    "df_brand_avg_price.boxplot(\"price\")"
   ]
  },
  {
   "cell_type": "markdown",
   "metadata": {},
   "source": [
    "### Using the function you just created, find the top 3 brands that have suffered the biggest losses in earnings between one month and the next, specifing bothe the loss percentage and the 2 months (e.g., brand_1 lost 20% between march and april)."
   ]
  },
  {
   "cell_type": "code",
   "execution_count": null,
   "metadata": {},
   "outputs": [],
   "source": []
  },
  {
   "cell_type": "markdown",
   "metadata": {},
   "source": [
    "# R5 \n",
    "In what part of the day is your store most visited?  Knowing which days of the week or even which hours of the day shoppers are likely to visit your online store and make a purchase may help you improve your strategies. "
   ]
  },
  {
   "cell_type": "markdown",
   "metadata": {},
   "source": [
    "### Create a plot that for each day of the week show the hourly average of visitors your store has."
   ]
  },
  {
   "cell_type": "code",
   "execution_count": null,
   "metadata": {},
   "outputs": [],
   "source": [
    "# First we group by session\n",
    "df = pd.DataFrame(df.groupby([\"user_session\"]).event_time.min()).reset_index()\n",
    "# Add the week day name\n",
    "df[\"weekday\"] = df[\"event_time\"].dt.day_name()\n",
    "# groupby weekday and count\n",
    "df = pd.DataFrame(df.groupby([\"weekday\"]).user_session.count()).reset_index()\n",
    "df[\"user_session\"]=df[\"user_session\"]/24\n",
    "\n",
    "sns.barplot(data=df, x=\"weekday\", y=\"user_session\")\n",
    "plt.show()"
   ]
  },
  {
   "cell_type": "markdown",
   "metadata": {},
   "source": [
    "# R6\n",
    "The conversion rate of a product is given by the number of times a product has been bought over the number of times it has been visited."
   ]
  },
  {
   "cell_type": "markdown",
   "metadata": {},
   "source": [
    "### What's the conversion rate of your online store? Find the overall conversion rate of your store."
   ]
  },
  {
   "cell_type": "code",
   "execution_count": 12,
   "metadata": {},
   "outputs": [
    {
     "name": "stdout",
     "output_type": "stream",
     "text": [
      "   product  Total_View  Total_Purchase  CVR %\n",
      "0  cabinet           1             0.0    0.0\n",
      "1   vacuum          12             0.0    0.0\n"
     ]
    }
   ],
   "source": [
    "df_1 = pd.DataFrame(df[df[\"event_type\"]==\"view\"].groupby([\"product\"]).product.count())\\\n",
    ".rename(columns={'product':'Total_View'}).reset_index()\n",
    "df_2 = pd.DataFrame(df[df[\"event_type\"]==\"purchase\"].groupby([\"product\"]).product.count())\\\n",
    ".rename(columns={'product':'Total_Purchase'}).reset_index()\n",
    "\n",
    "df_cvr = pd.merge(df_1,df_2, how=\"left\", on=[\"product\"]).fillna(0)\n",
    "df_cvr[\"CVR %\"] = round((df_cvr[\"Total_Purchase\"]/df_cvr[\"Total_View\"])*100,2)\n",
    "df_cvr.sort_values(\"CVR %\", ascending=False)\n",
    "print(df_cvr)"
   ]
  },
  {
   "cell_type": "markdown",
   "metadata": {},
   "source": [
    "### Plot the number of purchases of each category and show the conversion rate of each category in decreasing order."
   ]
  },
  {
   "cell_type": "code",
   "execution_count": null,
   "metadata": {},
   "outputs": [],
   "source": [
    "# Need to change the style -> cuz it's ungly as fuck\n",
    "\n",
    "# sns.set_style(\"white\")\n",
    "# fig, ax = plt.subplots()\n",
    "# ax.plot(df_cvr[\"Total_View\"])\n",
    "# ax2 =ax.twinx()\n",
    "# ax2.plot(df_cvr[\"CVR %\"])\n",
    "# sns.despine(ax=ax, right=True, left=True)\n",
    "# sns.despine(ax=ax2, left=True, right=False)\n",
    "# plt.show()"
   ]
  }
 ],
 "metadata": {
  "kernelspec": {
   "display_name": "Python 3",
   "language": "python",
   "name": "python3"
  },
  "language_info": {
   "codemirror_mode": {
    "name": "ipython",
    "version": 3
   },
   "file_extension": ".py",
   "mimetype": "text/x-python",
   "name": "python",
   "nbconvert_exporter": "python",
   "pygments_lexer": "ipython3",
   "version": "3.8.3"
  }
 },
 "nbformat": 4,
 "nbformat_minor": 4
}
