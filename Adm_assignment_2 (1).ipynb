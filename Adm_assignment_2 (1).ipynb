{
 "cells": [
  {
   "cell_type": "code",
   "execution_count": 1,
   "metadata": {},
   "outputs": [],
   "source": [
    "# Packages we need\n",
    "import pandas as pd\n",
    "import numpy as np\n",
    "import datetime as dt\n",
    "import seaborn as sns\n",
    "import matplotlib.pyplot as plt"
   ]
  },
  {
   "cell_type": "code",
   "execution_count": 11,
   "metadata": {},
   "outputs": [],
   "source": [
    "# Load datasets\n",
    "\n",
    "# TO DO\n",
    "    # add a dateparse -> this slows down the process so, it will be done\n",
    "file_path = \"C:/Users/Guillaume/Desktop/Algorithmic Methods/ADM Datasets/2019-Oct.csv\"\n",
    "df_oct = pd.read_csv(file_path, nrows=10000, parse_dates=[\"event_time\"])\n",
    "\n",
    "file_path = \"C:/Users/Guillaume/Desktop/Algorithmic Methods/ADM Datasets/2019-Nov.csv\"\n",
    "df_nov = pd.read_csv(file_path, nrows=10000, parse_dates=[\"event_time\"])\n",
    "\n",
    "# We append nov to oct\n",
    "df = df_oct.append(df_nov)\n",
    "# We remove duplicates\n",
    "df = df.drop_duplicates()\n",
    "\n",
    "# Split the column category_code into its different components\n",
    "df[[\"category\",\"sub-category\",\"product\"]] = df[\"category_code\"].str.split(\".\", expand=True)\n",
    "\n",
    "# Extract Weekday names\n",
    "df[\"weekday\"] = df[\"event_time\"].dt.day_name()\n",
    "# Extract Month_names\n",
    "df[\"months\"] = df[\"event_time\"].dt.month_name()\n",
    "# Time of day\n",
    "df[\"hour\"] = df[\"event_time\"].dt.hour"
   ]
  },
  {
   "cell_type": "markdown",
   "metadata": {},
   "source": [
    "# R1 Complete Funnels Rate\n",
    "A marketing funnel describes your customer’s journey with your e-commerce. It may involve different stages, beginning when someone learns about your business, when he/she visits your website for the first time, to the purchasing stage, marketing funnels map routes to conversion and beyond. Suppose your funnel involves just three simple steps: 1) view, 2) cart, 3) purchase."
   ]
  },
  {
   "cell_type": "markdown",
   "metadata": {},
   "source": [
    "A complete funnel is the successive operations of view->cart->purchase realized during 1 session."
   ]
  },
  {
   "cell_type": "code",
   "execution_count": null,
   "metadata": {},
   "outputs": [],
   "source": [
    "# We group a first time to get the count an action appear for 1 product within 1 session\n",
    "# We reset the index to be able to re-use the columns\n",
    "funnel  = pd.DataFrame(df_1.groupby(['user_session',\"product_id\",'event_type']).event_type.count()).rename(columns={'event_type':'count'}).reset_index()\n",
    "\n",
    "# We group a second time, this time to count the number of unique event type appear for 1 product within 1 session\n",
    "# We reset the index\n",
    "funnel  = pd.DataFrame(funnel .groupby(['user_session',\"product_id\"]).event_type.count()).rename(columns={'event_type':'count'}).reset_index()\n",
    "\n",
    "# We know that a product when through a complete funnel if it has gonne through view->cart->purchase\n",
    "# We filter for 3\n",
    "count_complete_funnel = funnel[funnel ['count'] == 3].shape[0]\n",
    "\n",
    "# The denominator as the total number of views. All views that begin are a potential funnel\n",
    "# the rate is subject to interpretation\n",
    "total_views = df[df.event_type ==\"view\"].count()[0]\n",
    "\n",
    "# We do the ratio\n",
    "cfr = round(count_complete_funnel*100/total_views,2)"
   ]
  },
  {
   "cell_type": "markdown",
   "metadata": {},
   "source": [
    "### Average number of times users perform each operation "
   ]
  },
  {
   "cell_type": "code",
   "execution_count": null,
   "metadata": {},
   "outputs": [],
   "source": []
  },
  {
   "cell_type": "markdown",
   "metadata": {},
   "source": [
    "# R2 "
   ]
  },
  {
   "cell_type": "markdown",
   "metadata": {},
   "source": [
    "### What are the categories of the most trending products overall? For each month visualize this information through a plot showing the number of sold products per category."
   ]
  },
  {
   "cell_type": "code",
   "execution_count": 38,
   "metadata": {},
   "outputs": [
    {
     "data": {
      "text/plain": [
       "<matplotlib.axes._subplots.AxesSubplot at 0x1e1b5a6a970>"
      ]
     },
     "execution_count": 38,
     "metadata": {},
     "output_type": "execute_result"
    },
    {
     "data": {
      "image/png": "[encoded data removed]",
      "text/plain": [
       "<Figure size 720x720 with 1 Axes>"
      ]
     },
     "metadata": {
      "needs_background": "light"
     },
     "output_type": "display_data"
    }
   ],
   "source": [
    "df_purchased_cat = df[df[\"event_type\"]==\"purchase\"]\n",
    "#df_purchased_cat = df_purchased_cat[[\"category\",\"sub-category\",\"product\"]].fillna(\"unknown\")\n",
    "df_purchased_cat = pd.DataFrame(df_purchased_cat.groupby([\"category\",\"months\"]).product.count()).rename(columns={'product':'count_product'}).reset_index()\n",
    "fig, ax1 = plt.subplots(figsize=(10, 10))\n",
    "sns.barplot(x=\"months\", y=\"count_product\", hue=\"category\", data=df_purchased_cat, ax=ax1)"
   ]
  },
  {
   "cell_type": "markdown",
   "metadata": {},
   "source": [
    " ### Plot the most visited subcategories"
   ]
  },
  {
   "cell_type": "code",
   "execution_count": 38,
   "metadata": {},
   "outputs": [
    {
     "data": {
      "text/plain": [
       "<matplotlib.axes._subplots.AxesSubplot at 0x139d408f400>"
      ]
     },
     "execution_count": 38,
     "metadata": {},
     "output_type": "execute_result"
    },
    {
     "data": {
      "image/png": "[encoded data removed]",
      "text/plain": [
       "<Figure size 432x288 with 1 Axes>"
      ]
     },
     "metadata": {
      "needs_background": "light"
     },
     "output_type": "display_data"
    }
   ],
   "source": [
    "df_view_subcat = df[df[\"event_type\"]==\"view\"]\n",
    "df_view_subcat = pd.DataFrame(df_view_subcat.groupby([\"sub-category\"]).event_type.count()).rename(columns={'event_type':'count_subcategory'}).reset_index()\n",
    "df_view_subcat.sort_values([\"count_subcategory\"], ascending=False)\n",
    "# The x axis will be crowded.\n",
    "sns.barplot(x=\"sub-category\", y=\"count_subcategory\", data=df_view_subcat )"
   ]
  },
  {
   "cell_type": "markdown",
   "metadata": {},
   "source": [
    "What are the 10 most sold products per category?"
   ]
  },
  {
   "cell_type": "code",
   "execution_count": 39,
   "metadata": {},
   "outputs": [
    {
     "data": {
      "text/html": [
       "<div>\n",
       "<style scoped>\n",
       "    .dataframe tbody tr th:only-of-type {\n",
       "        vertical-align: middle;\n",
       "    }\n",
       "\n",
       "    .dataframe tbody tr th {\n",
       "        vertical-align: top;\n",
       "    }\n",
       "\n",
       "    .dataframe thead th {\n",
       "        text-align: right;\n",
       "    }\n",
       "</style>\n",
       "<table border=\"1\" class=\"dataframe\">\n",
       "  <thead>\n",
       "    <tr style=\"text-align: right;\">\n",
       "      <th></th>\n",
       "      <th>category</th>\n",
       "      <th>product</th>\n",
       "      <th>count_product</th>\n",
       "    </tr>\n",
       "  </thead>\n",
       "  <tbody>\n",
       "    <tr>\n",
       "      <th>0</th>\n",
       "      <td>appliances</td>\n",
       "      <td>vacuum</td>\n",
       "      <td>3</td>\n",
       "    </tr>\n",
       "  </tbody>\n",
       "</table>\n",
       "</div>"
      ],
      "text/plain": [
       "     category product  count_product\n",
       "0  appliances  vacuum              3"
      ]
     },
     "execution_count": 39,
     "metadata": {},
     "output_type": "execute_result"
    }
   ],
   "source": [
    "# We replace months by product in the first grouping\n",
    "\n",
    "df_purchased_cat = df[df[\"event_type\"]==\"purchase\"]\n",
    "#df_purchased_cat = df_purchased_cat[[\"category\",\"sub-category\",\"product\"]].fillna(\"unknown\")\n",
    "df_purchased_cat = pd.DataFrame(df_purchased_cat.groupby([\"category\",\"product\"]).product.count()).rename(columns={'product':'count_product'}).reset_index()\n",
    "\n",
    "# nlargest does not work. So i guess we have to work with groupby\n",
    "df_purchased_cat.groupby([\"category\",\"product\"]).head(10).sort_values([\"category\",\"count_product\"])"
   ]
  },
  {
   "cell_type": "markdown",
   "metadata": {},
   "source": [
    "What to do with all the empty values"
   ]
  },
  {
   "cell_type": "markdown",
   "metadata": {},
   "source": [
    "# R3\n",
    "### For each category, what’s the brand whose prices are higher on average?"
   ]
  },
  {
   "cell_type": "code",
   "execution_count": 41,
   "metadata": {},
   "outputs": [
    {
     "name": "stdout",
     "output_type": "stream",
     "text": [
      "       category      brand  mean_price\n",
      "14    furniture   kosmekka  150.790000\n",
      "8    appliances        max   74.299167\n",
      "0   accessories      vosev   62.700000\n",
      "4       apparel   nitrimax   10.288000\n",
      "16   stationery  depilflax    3.020000\n"
     ]
    }
   ],
   "source": [
    "df_brand_avg_price = pd.DataFrame(df.groupby([\"category\",\"brand\"]).price.mean()).rename(columns={'price' : 'mean_price'}).reset_index()\n",
    "df_brand_avg_price = df_brand_avg_price.sort_values(by = ['mean_price'],ascending=False)\n",
    "df_brand_avg_price = df_brand_avg_price.groupby(['category']).head(1)\n",
    "print(df_brand_avg_price)"
   ]
  },
  {
   "cell_type": "markdown",
   "metadata": {},
   "source": [
    "### Write a function that asks the user a category in input and returns a plot indicating the average price of the products sold by the brand."
   ]
  },
  {
   "cell_type": "code",
   "execution_count": 43,
   "metadata": {},
   "outputs": [
    {
     "data": {
      "image/png": "[encoded data removed]",
      "text/plain": [
       "<Figure size 432x288 with 1 Axes>"
      ]
     },
     "metadata": {
      "needs_background": "light"
     },
     "output_type": "display_data"
    }
   ],
   "source": [
    "def plot_avg_price_product_brand(category):\n",
    "\n",
    "    df_brand_avg_price = pd.DataFrame(df.groupby([\"category\",\"brand\"]).price.mean()).reset_index()\n",
    "    df_plot = df_brand_avg_price[df_brand_avg_price[\"category\"]==category]\n",
    "    sns.scatterplot(data= df_plot, x=\"brand\", y=\"price\")\n",
    "    plt.show()\n",
    "\n",
    "test = plot_avg_price_product_brand(\"furniture\")"
   ]
  },
  {
   "cell_type": "markdown",
   "metadata": {},
   "source": [
    "### Find, for each category, the brand with the highest average price. Return all the results in ascending order by price.\n",
    "that's the same as before"
   ]
  },
  {
   "cell_type": "markdown",
   "metadata": {},
   "source": [
    "# R4\n",
    "### How much does each brand earn per month?"
   ]
  },
  {
   "cell_type": "code",
   "execution_count": 49,
   "metadata": {},
   "outputs": [
    {
     "name": "stdout",
     "output_type": "stream",
     "text": [
      "  brand   months  revenues\n",
      "0   max  October     47.46\n",
      "        brand    months   price\n",
      "0    airnails  November    0.95\n",
      "1    airnails   October    2.38\n",
      "2      ardell  November    7.16\n",
      "3  art-visage   October    8.02\n",
      "4     beautix  November   15.71\n",
      "5     beautix   October   42.39\n",
      "6  beauugreen   October   15.71\n",
      "7     bioaqua  November   21.43\n",
      "8     bluesky  November   47.16\n",
      "9     bluesky   October  151.17\n"
     ]
    }
   ],
   "source": [
    "# good option\n",
    "df_revenue = df[df[\"event_type\"] == \"purchase\"]\n",
    "df_revenue_2 = pd.DataFrame(df_revenue.groupby([\"brand\",\"months\"]).price.sum()).reset_index()\n",
    "print(df_revenue_2.head(10))"
   ]
  },
  {
   "cell_type": "markdown",
   "metadata": {},
   "source": [
    "### Write a function that given the name of a brand in input returns, for each month, its profit. \n",
    "\n",
    "There is no way to access the cost - hence our only option to compute revenues"
   ]
  },
  {
   "cell_type": "code",
   "execution_count": 72,
   "metadata": {},
   "outputs": [],
   "source": [
    "def brand_revenues(brand):\n",
    "    \n",
    "    df_revenue = df[df[\"event_type\"] == \"purchase\"]\n",
    "    df_revenue = df_revenue[df_revenue[\"brand\"] == brand]\n",
    "    df_revenue = pd.DataFrame(df_revenue.groupby([\"brand\",\"months\"]).price.sum()).reset_index()\n",
    "    \n",
    "    return df_revenue"
   ]
  },
  {
   "cell_type": "markdown",
   "metadata": {},
   "source": [
    "### Is the average price of products of different brands significantly different?"
   ]
  },
  {
   "cell_type": "markdown",
   "metadata": {},
   "source": [
    "First --> we need the average price of products for each brand.\n",
    "Second --> A box plot is one option to visualize this difference"
   ]
  },
  {
   "cell_type": "code",
   "execution_count": 68,
   "metadata": {},
   "outputs": [
    {
     "data": {
      "text/plain": [
       "<matplotlib.axes._subplots.AxesSubplot at 0x139d4630160>"
      ]
     },
     "execution_count": 68,
     "metadata": {},
     "output_type": "execute_result"
    },
    {
     "data": {
      "image/png": "[encoded data removed]",
      "text/plain": [
       "<Figure size 432x288 with 1 Axes>"
      ]
     },
     "metadata": {
      "needs_background": "light"
     },
     "output_type": "display_data"
    }
   ],
   "source": [
    "# New Option\n",
    "df_op1 = pd.DataFrame(df.groupby([\"brand\",\"product\"]).price.mean()).rename(columns={\"price\":\"avg_price\"}).reset_index()\n",
    "df_op1.boxplot(column = \"avg_price\",by=\"product\")\n",
    "\n",
    "# Would they need a statistical "
   ]
  },
  {
   "cell_type": "markdown",
   "metadata": {},
   "source": [
    "### Using the function you just created, find the top 3 brands that have suffered the biggest losses in earnings between one month and the next, specifing bothe the loss percentage and the 2 months (e.g., brand_1 lost 20% between march and april)."
   ]
  },
  {
   "cell_type": "code",
   "execution_count": 123,
   "metadata": {},
   "outputs": [
    {
     "name": "stdout",
     "output_type": "stream",
     "text": [
      "       brand  months_x  price  months_y  pct_change\n",
      "52     smart  November   5.56         2   -0.805390\n",
      "36   concept  November  11.59         2   -0.804520\n",
      "58  severina  November   3.57         2   -0.783505\n"
     ]
    }
   ],
   "source": [
    "# Lets get all the possible brands\n",
    "brand_list = list(df[\"brand\"].unique())\n",
    "\n",
    "#New df to append\n",
    "df_new = pd.DataFrame()\n",
    "for brand in brand_list:\n",
    "    test = brand_revenues(brand)\n",
    "    df_new = df_new.append(test, ignore_index=True)\n",
    "\n",
    "# We only want the brands for which there is earnings for oct and nov\n",
    "# We create a filter we put an >= 2 in case we have more than 2 months later\n",
    "df_2_months = pd.DataFrame(df_new.groupby([\"brand\"]).months.count()).reset_index()\n",
    "df_2_months = df_2_months[df_2_months[\"months\"]>=2]\n",
    "\n",
    "# We can sort so that Nov is above Oct. \n",
    "# We shall get fucked later if we don't sort by time instead\n",
    "df_new.sort_values([\"brand\",\"months\"], ascending=True)\n",
    "df_new = pd.merge(df_new, df_2_months, how=\"inner\", on=[\"brand\"])\n",
    "# beautfil pct_change thingy\n",
    "df_new[\"pct_change\"] = df_new[\"price\"].pct_change(periods=-1)\n",
    "#\"cannot reindex from a duplicate axis\" so you must ignore_index in the for loop \n",
    "\n",
    "# We only want the month other than October, since it is the \"first\" month,\n",
    "\n",
    "print(df_new[df_new[\"months_x\"] != \"October\"].sort_values([\"pct_change\"]).head(3))"
   ]
  },
  {
   "cell_type": "markdown",
   "metadata": {},
   "source": [
    "# R5 \n",
    "In what part of the day is your store most visited?  "
   ]
  },
  {
   "cell_type": "code",
   "execution_count": 18,
   "metadata": {},
   "outputs": [
    {
     "name": "stdout",
     "output_type": "stream",
     "text": [
      "   Time  Total Views\n",
      "0     5         2540\n",
      "1     4         2230\n",
      "2     3         1331\n",
      "3     0          936\n",
      "4     1          850\n",
      "5     2          805\n"
     ]
    }
   ],
   "source": [
    "df_view = df[df[\"event_type\"] == \"view\"]\n",
    "freq= pd.DataFrame(df_view[\"hour\"].value_counts()).rename(columns={\"hour\":\"Total Views\"}).reset_index().rename(columns={\"index\":\"Time\"})\n",
    "print(freq)"
   ]
  },
  {
   "cell_type": "markdown",
   "metadata": {},
   "source": [
    "Knowing which days of the week or even which hours of the day shoppers are likely to visit your online store and make a purchase may help you improve your strategies. "
   ]
  },
  {
   "cell_type": "markdown",
   "metadata": {},
   "source": [
    "### Create a plot that for each day of the week show the hourly average of visitors your store has."
   ]
  },
  {
   "cell_type": "code",
   "execution_count": 124,
   "metadata": {},
   "outputs": [
    {
     "data": {
      "image/png": "[encoded data removed]",
      "text/plain": [
       "<Figure size 432x288 with 1 Axes>"
      ]
     },
     "metadata": {
      "needs_background": "light"
     },
     "output_type": "display_data"
    }
   ],
   "source": [
    "# First we group by session\n",
    "df = pd.DataFrame(df.groupby([\"user_session\"]).event_time.min()).reset_index()\n",
    "# Add the week day name\n",
    "df[\"weekday\"] = df[\"event_time\"].dt.day_name()\n",
    "# groupby weekday and count\n",
    "df = pd.DataFrame(df.groupby([\"weekday\"]).user_session.count()).reset_index()\n",
    "df[\"user_session\"]=df[\"user_session\"]/24\n",
    "\n",
    "sns.barplot(data=df, x=\"weekday\", y=\"user_session\")\n",
    "plt.show()"
   ]
  },
  {
   "cell_type": "markdown",
   "metadata": {},
   "source": [
    "# R6\n",
    "The conversion rate of a product is given by the number of times a product has been bought over the number of times it has been visited."
   ]
  },
  {
   "cell_type": "code",
   "execution_count": 30,
   "metadata": {},
   "outputs": [
    {
     "name": "stdout",
     "output_type": "stream",
     "text": [
      "       product  Total_View  Total_Purchase  CVR %\n",
      "0         bath          22             0.0   0.00\n",
      "1      cabinet          42             0.0   0.00\n",
      "2  hair_cutter           4             0.0   0.00\n",
      "3       vacuum         141             3.0   2.13\n"
     ]
    }
   ],
   "source": [
    "df_1 = pd.DataFrame(df[df[\"event_type\"]==\"view\"].groupby([\"product\"]).product.count())\\\n",
    ".rename(columns={'product':'Total_View'}).reset_index()\n",
    "df_2 = pd.DataFrame(df[df[\"event_type\"]==\"purchase\"].groupby([\"product\"]).product.count())\\\n",
    ".rename(columns={'product':'Total_Purchase'}).reset_index()\n",
    "\n",
    "df_cvr = pd.merge(df_1,df_2, how=\"left\", on=[\"product\"]).fillna(0)\n",
    "df_cvr[\"CVR %\"] = round((df_cvr[\"Total_Purchase\"]/df_cvr[\"Total_View\"])*100,2)\n",
    "df_cvr.sort_values(\"CVR %\", ascending=False)\n",
    "print(df_cvr)"
   ]
  },
  {
   "cell_type": "markdown",
   "metadata": {},
   "source": [
    "### What's the conversion rate of your online store? Find the overall conversion rate of your store."
   ]
  },
  {
   "cell_type": "code",
   "execution_count": 37,
   "metadata": {},
   "outputs": [
    {
     "data": {
      "text/plain": [
       "0.014354066985645933"
      ]
     },
     "execution_count": 37,
     "metadata": {},
     "output_type": "execute_result"
    }
   ],
   "source": [
    "df_cvr[\"Total_Purchase\"].sum() / df_cvr[\"Total_View\"].sum()"
   ]
  },
  {
   "cell_type": "markdown",
   "metadata": {},
   "source": [
    "### Plot the number of purchases of each category and show the conversion rate of each category in decreasing order."
   ]
  },
  {
   "cell_type": "code",
   "execution_count": null,
   "metadata": {},
   "outputs": [],
   "source": [
    "# Need to change the style -> cuz it's ugly as fuck\n",
    "\n",
    "# sns.set_style(\"white\")\n",
    "# fig, ax = plt.subplots()\n",
    "# ax.plot(df_cvr[\"Total_View\"])\n",
    "# ax2 =ax.twinx()\n",
    "# ax2.plot(df_cvr[\"CVR %\"])\n",
    "# sns.despine(ax=ax, right=True, left=True)\n",
    "# sns.despine(ax=ax2, left=True, right=False)\n",
    "# plt.show()"
   ]
  },
  {
   "cell_type": "markdown",
   "metadata": {},
   "source": [
    "# RQ7 \n",
    "Prove that the Pareto principle applies to your store"
   ]
  },
  {
   "cell_type": "code",
   "execution_count": null,
   "metadata": {},
   "outputs": [],
   "source": []
  }
 ],
 "metadata": {
  "kernelspec": {
   "display_name": "Python 3",
   "language": "python",
   "name": "python3"
  },
  "language_info": {
   "codemirror_mode": {
    "name": "ipython",
    "version": 3
   },
   "file_extension": ".py",
   "mimetype": "text/x-python",
   "name": "python",
   "nbconvert_exporter": "python",
   "pygments_lexer": "ipython3",
   "version": "3.8.3"
  }
 },
 "nbformat": 4,
 "nbformat_minor": 4
}
