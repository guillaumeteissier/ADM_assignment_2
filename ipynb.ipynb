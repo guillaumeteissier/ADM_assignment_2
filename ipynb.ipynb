{
 "cells": [
  {
   "cell_type": "code",
   "execution_count": null,
   "metadata": {},
   "outputs": [],
   "source": [
    "# R1 - average number of times users perform each operation \n",
    "all_funn  = pd.DataFrame(df.groupby(['user_session',\"product_id\",'event_type']).event_type.count()).rename(columns={'event_type':'count'}).reset_index()\n",
    "all_funn  = pd.DataFrame(all_funn .groupby(['user_session',\"product_id\"]).event_type.count()).rename(columns={'event_type':'count'}).reset_index()\n",
    "print(all_funn[all_funn ['count'] == 3].shape[0])"
   ]
  }
 ],
 "metadata": {
  "kernelspec": {
   "display_name": "Python 3",
   "language": "python",
   "name": "python3"
  },
  "language_info": {
   "codemirror_mode": {
    "name": "ipython",
    "version": 3
   },
   "file_extension": ".py",
   "mimetype": "text/x-python",
   "name": "python",
   "nbconvert_exporter": "python",
   "pygments_lexer": "ipython3",
   "version": "3.8.3"
  }
 },
 "nbformat": 4,
 "nbformat_minor": 4
}
